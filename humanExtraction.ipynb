{
 "cells": [
  {
   "cell_type": "code",
   "execution_count": 1,
   "metadata": {},
   "outputs": [
    {
     "data": {
      "text/plain": [
       "True"
      ]
     },
     "execution_count": 1,
     "metadata": {},
     "output_type": "execute_result"
    }
   ],
   "source": [
    "import cv2\n",
    "import numpy as np\n",
    "\n",
    "# Load your annotation/mask image\n",
    "mask_image = cv2.imread('COCO_train2014_000000008494.png')\n",
    "\n",
    "# Convert the mask to grayscale and create a binary mask\n",
    "mask_image_gray = cv2.cvtColor(mask_image, cv2.COLOR_BGR2GRAY)\n",
    "_, binary_mask = cv2.threshold(mask_image_gray, 1, 255, cv2.THRESH_BINARY)\n",
    "\n",
    "# Load the image containing objects\n",
    "objects_image = cv2.imread('COCO_train2014_000000008494.jpg')\n",
    "\n",
    "# Ensure both images have the same dimensions\n",
    "if binary_mask.shape[:2] != objects_image.shape[:2]:\n",
    "    raise ValueError(\"Both images should have the same dimensions.\")\n",
    "\n",
    "# Create an output image with four channels (BGRA)\n",
    "output_image = np.zeros((objects_image.shape[0], objects_image.shape[1], 4), dtype=np.uint8)\n",
    "\n",
    "# Copy the RGB channels from objects_image to the output_image\n",
    "output_image[:, :, :3] = objects_image\n",
    "\n",
    "# Set the alpha channel based on the binary mask\n",
    "output_image[:, :, 3] = binary_mask\n",
    "\n",
    "# Save the ROI image with transparency (as PNG)\n",
    "cv2.imwrite('roi_image.png', output_image)\n",
    "\n"
   ]
  },
  {
   "cell_type": "code",
   "execution_count": 3,
   "metadata": {},
   "outputs": [
    {
     "name": "stdout",
     "output_type": "stream",
     "text": [
      "Defaulting to user installation because normal site-packages is not writeable\n",
      "Collecting opencv-python\n",
      "  Downloading opencv_python-4.8.0.76-cp37-abi3-manylinux_2_17_x86_64.manylinux2014_x86_64.whl (61.7 MB)\n",
      "\u001b[2K     \u001b[90m━━━━━━━━━━━━━━━━━━━━━━━━━━━━━━━━━━━━━━━━\u001b[0m \u001b[32m61.7/61.7 MB\u001b[0m \u001b[31m34.1 MB/s\u001b[0m eta \u001b[36m0:00:00\u001b[0m00:01\u001b[0m00:01\u001b[0m\n",
      "\u001b[?25hRequirement already satisfied: numpy>=1.17.0 in /home/asma/.local/lib/python3.10/site-packages (from opencv-python) (1.24.2)\n",
      "Installing collected packages: opencv-python\n",
      "Successfully installed opencv-python-4.8.0.76\n"
     ]
    }
   ],
   "source": [
    "#!pip install opencv-python\n"
   ]
  }
 ],
 "metadata": {
  "kernelspec": {
   "display_name": "Python 3",
   "language": "python",
   "name": "python3"
  },
  "language_info": {
   "codemirror_mode": {
    "name": "ipython",
    "version": 3
   },
   "file_extension": ".py",
   "mimetype": "text/x-python",
   "name": "python",
   "nbconvert_exporter": "python",
   "pygments_lexer": "ipython3",
   "version": "3.10.12"
  },
  "orig_nbformat": 4
 },
 "nbformat": 4,
 "nbformat_minor": 2
}
